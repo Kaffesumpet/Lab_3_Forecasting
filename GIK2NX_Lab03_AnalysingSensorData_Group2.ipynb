{
 "cells": [
  {
   "cell_type": "markdown",
   "metadata": {},
   "source": [
    "# GIK2NX LAB 3 ANALYSING SENSOR DATA GROUP 2"
   ]
  },
  {
   "cell_type": "code",
   "execution_count": null,
   "metadata": {},
   "outputs": [],
   "source": [
    "import numpy as np\n",
    "import pandas as pd\n",
    "import seaborn as sns\n",
    "from statsmodels.tsa.stattools import adfuller\n",
    "from statsmodels.tsa.arima.model import ARIMA\n",
    "from pmdarima import auto_arima\n",
    "import matplotlib.pyplot as plt"
   ]
  },
  {
   "cell_type": "markdown",
   "metadata": {},
   "source": [
    "### Part One                       \n",
    "1. ADF-test \n",
    "2. data for Auto Arima"
   ]
  },
  {
   "cell_type": "code",
   "execution_count": null,
   "metadata": {},
   "outputs": [],
   "source": [
    "data = pd.read_csv('dataset.csv', index_col='date')\n",
    "data.head()"
   ]
  },
  {
   "cell_type": "code",
   "execution_count": null,
   "metadata": {},
   "outputs": [],
   "source": [
    "data.describe()"
   ]
  },
  {
   "cell_type": "code",
   "execution_count": null,
   "metadata": {},
   "outputs": [],
   "source": [
    "train_size = int(len(data) * 0.7)\n",
    "train, test = data.iloc[:train_size], data.iloc[train_size:]"
   ]
  },
  {
   "cell_type": "code",
   "execution_count": null,
   "metadata": {},
   "outputs": [],
   "source": [
    "# Checks stationarity of C02 in the training set\n",
    "adf_result = adfuller(train['CO2'])\n",
    "print(adf_result)"
   ]
  },
  {
   "cell_type": "code",
   "execution_count": null,
   "metadata": {},
   "outputs": [],
   "source": [
    "# Finds the best ARIMA model with seasonal settings.\n",
    "train = train[\"CO2\"]\n",
    "auto_model = auto_arima(train, \n",
    "                        seasonal=True, \n",
    "                        trace=True, \n",
    "                        error_action='ignore', \n",
    "                        suppress_warnings=True)"
   ]
  },
  {
   "cell_type": "markdown",
   "metadata": {},
   "source": [
    "### Part Two                                                  \n",
    "1. Use Arima with the Auto Arima results                    \n",
    "2. Stepwise update, iterate in batches,                      \n",
    "3. forecast values, and update the model with observed data  \n",
    "4. Then plot and caculate MAE"
   ]
  },
  {
   "cell_type": "code",
   "execution_count": null,
   "metadata": {},
   "outputs": [],
   "source": [
    "data = pd.read_csv('dataset.csv', index_col='date')\n",
    "\n",
    "data.index.freq = '1min'\n",
    "data.index = pd.DatetimeIndex(data.index).to_period('1min')\n",
    "temp_data = data['CO2']"
   ]
  },
  {
   "cell_type": "code",
   "execution_count": null,
   "metadata": {},
   "outputs": [],
   "source": [
    "# Split the data into train and test sets (70% train, 30% test) per instructions.\n",
    "split_point = int(.7 * len(temp_data))\n",
    "train, test = temp_data[:split_point], temp_data[split_point:]"
   ]
  },
  {
   "cell_type": "code",
   "execution_count": null,
   "metadata": {},
   "outputs": [],
   "source": [
    "# Model uses the output of Arima Auto, which is (2, 1, 2). \n",
    "model = ARIMA(train, order=(auto_model.order))\n",
    "fitted_model = model.fit()"
   ]
  },
  {
   "cell_type": "code",
   "execution_count": null,
   "metadata": {},
   "outputs": [],
   "source": [
    "# Stepwise Update and Forecast\n",
    "# Batches can only be in something divisible with the total number.\n",
    "# [1, 2, 7, 11, 14, 19, 22, 38, 77, 133, 154, 209, 266, 418, 1463, 2926]\n",
    "batch_size = 77\n",
    "forecasts = []\n",
    "true_values = []"
   ]
  },
  {
   "cell_type": "code",
   "execution_count": null,
   "metadata": {},
   "outputs": [],
   "source": [
    "current_train = train.copy()"
   ]
  },
  {
   "cell_type": "code",
   "execution_count": null,
   "metadata": {},
   "outputs": [],
   "source": [
    "# Iterate in batches\n",
    "for i in range(0, len(test), batch_size):\n",
    "    batch = test.iloc[i:i+batch_size]\n",
    "    print(f'{i} out of 2926')\n",
    "    \n",
    "    # Fit the ARIMA model on the current training data\n",
    "    model = ARIMA(current_train, order=auto_model.order)\n",
    "    fitted_model = model.fit()\n",
    "\n",
    "    # Forecast the next 'batch_size' values\n",
    "    forecast = fitted_model.forecast(steps=batch_size)\n",
    "    forecasts.extend(forecast)  # Append the forecasted values\n",
    "\n",
    "    # Update the training data with the actual observed values from the current batch\n",
    "    current_train = pd.concat([current_train, batch])\n",
    "\n",
    "    # Store the true values for later evaluation\n",
    "    true_values.extend(batch)"
   ]
  },
  {
   "cell_type": "code",
   "execution_count": null,
   "metadata": {},
   "outputs": [],
   "source": [
    "# Ensure the indices are in the correct format\n",
    "train.index = train.index.to_timestamp()\n",
    "test.index = test.index.to_timestamp()"
   ]
  },
  {
   "cell_type": "code",
   "execution_count": null,
   "metadata": {},
   "outputs": [],
   "source": [
    "forecasts = pd.Series(forecasts, index=test.index)"
   ]
  },
  {
   "cell_type": "code",
   "execution_count": null,
   "metadata": {},
   "outputs": [],
   "source": [
    "plt.figure(figsize=(10, 6))\n",
    "plt.plot(train.index, train, label='Train')\n",
    "plt.plot(test.index, test, label='Test')\n",
    "plt.plot(forecasts.index, forecasts, label='Stepwise Forecast')\n",
    "plt.title('CO2 Stepwise Forecast vs Actual')\n",
    "plt.xlabel('Date')\n",
    "plt.ylabel('Temperature Levels')\n",
    "plt.legend()\n",
    "plt.show()"
   ]
  },
  {
   "cell_type": "code",
   "execution_count": null,
   "metadata": {},
   "outputs": [],
   "source": [
    "# Scatterplots\n",
    "cols_to_plot = ['Temperature', 'Humidity', 'Light', 'CO2']\n",
    "sns.pairplot(data[cols_to_plot])\n",
    "plt.show()"
   ]
  },
  {
   "cell_type": "code",
   "execution_count": null,
   "metadata": {},
   "outputs": [],
   "source": [
    "# Correlation matrix\n",
    "corr_matrix = data[cols_to_plot].corr()\n",
    "\n",
    "plt.figure(figsize=(8, 6))\n",
    "sns.heatmap(corr_matrix, annot=True, cmap=\"coolwarm\", fmt=\".2f\")\n",
    "plt.title('Correlation Matrix')\n",
    "plt.show()"
   ]
  },
  {
   "cell_type": "code",
   "execution_count": null,
   "metadata": {},
   "outputs": [],
   "source": [
    "# Calculate Mean Absolute Error (MAE)\n",
    "MAE = np.mean(abs(forecasts - true_values))\n",
    "print('Mean Absolute Error (MAE): ' + str(np.round(MAE, 2)))"
   ]
  }
 ],
 "metadata": {
  "language_info": {
   "name": "python"
  }
 },
 "nbformat": 4,
 "nbformat_minor": 2
}
